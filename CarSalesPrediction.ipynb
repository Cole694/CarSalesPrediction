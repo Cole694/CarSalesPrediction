{
 "cells": [
  {
   "cell_type": "markdown",
   "metadata": {},
   "source": [
    "# Car sales prices\n",
    "In this project the aim is to build a predictive model according to features related to a car's selling price. The project consists of 3 sections:\n",
    "\n",
    "Section 1 - Import and analyse raw data.\n",
    "\n",
    "Section 2 - Clean the data and prep for use in ML algorithm.\n",
    "\n",
    "Section 3 - Implement the ML algorithm and tune it to functionality."
   ]
  },
  {
   "cell_type": "markdown",
   "metadata": {},
   "source": [
    "## Section 1 - Import and analyse raw data\n",
    "This section focuses on reading the csv file containing the training and testing data as well as analysing and identifying necessary features."
   ]
  },
  {
   "cell_type": "code",
   "execution_count": 514,
   "metadata": {},
   "outputs": [],
   "source": [
    "# import libraries\n",
    "import pandas as pd\n",
    "import numpy as np\n",
    "import seaborn as sns\n",
    "import matplotlib.pyplot as plt\n",
    "%matplotlib inline"
   ]
  },
  {
   "cell_type": "code",
   "execution_count": 515,
   "metadata": {},
   "outputs": [],
   "source": [
    "# read the csv file\n",
    "raw_data = pd.read_csv(\"C:\\\\Users\\\\heyle\\\\Downloads\\\\test-data.csv\")"
   ]
  },
  {
   "cell_type": "code",
   "execution_count": 516,
   "metadata": {},
   "outputs": [],
   "source": [
    "# drop columns that arent of any value to the model\n",
    "raw_data.drop(\"Name\", axis=1, inplace=True)\n",
    "raw_data.drop(\"Location\", axis=1, inplace=True)\n",
    "raw_data.drop(\"Unnamed: 0\", axis=1, inplace=True)"
   ]
  },
  {
   "cell_type": "code",
   "execution_count": 517,
   "metadata": {},
   "outputs": [
    {
     "data": {
      "text/plain": [
       "Year                    0\n",
       "Kilometers_Driven       0\n",
       "Fuel_Type               0\n",
       "Transmission            0\n",
       "Owner_Type              0\n",
       "Mileage                 0\n",
       "Engine                 10\n",
       "Power                  10\n",
       "Seats                  11\n",
       "New_Price            1052\n",
       "dtype: int64"
      ]
     },
     "execution_count": 517,
     "metadata": {},
     "output_type": "execute_result"
    }
   ],
   "source": [
    "# check total null values in each column\n",
    "raw_data.isnull().sum()"
   ]
  },
  {
   "cell_type": "markdown",
   "metadata": {},
   "source": [
    "After taking a close look at the data it can be determined that there is more than 60% missing from the target data. This means that these values are useless to the training of the ML algrithm. All rows that do not contain a New_Price(target data) value will be removed from the table."
   ]
  },
  {
   "cell_type": "code",
   "execution_count": 518,
   "metadata": {},
   "outputs": [],
   "source": [
    "# drop nulls\n",
    "df1 = raw_data.dropna()"
   ]
  },
  {
   "cell_type": "markdown",
   "metadata": {},
   "source": [
    "By looking at the table below it can be seen that there are now only 182 rows of data that are of value to the training process."
   ]
  },
  {
   "cell_type": "code",
   "execution_count": 519,
   "metadata": {},
   "outputs": [
    {
     "data": {
      "text/html": [
       "<div>\n",
       "<style scoped>\n",
       "    .dataframe tbody tr th:only-of-type {\n",
       "        vertical-align: middle;\n",
       "    }\n",
       "\n",
       "    .dataframe tbody tr th {\n",
       "        vertical-align: top;\n",
       "    }\n",
       "\n",
       "    .dataframe thead th {\n",
       "        text-align: right;\n",
       "    }\n",
       "</style>\n",
       "<table border=\"1\" class=\"dataframe\">\n",
       "  <thead>\n",
       "    <tr style=\"text-align: right;\">\n",
       "      <th></th>\n",
       "      <th>Year</th>\n",
       "      <th>Kilometers_Driven</th>\n",
       "      <th>Fuel_Type</th>\n",
       "      <th>Transmission</th>\n",
       "      <th>Owner_Type</th>\n",
       "      <th>Mileage</th>\n",
       "      <th>Engine</th>\n",
       "      <th>Power</th>\n",
       "      <th>Seats</th>\n",
       "      <th>New_Price</th>\n",
       "    </tr>\n",
       "  </thead>\n",
       "  <tbody>\n",
       "    <tr>\n",
       "      <th>2</th>\n",
       "      <td>2017</td>\n",
       "      <td>34000</td>\n",
       "      <td>Diesel</td>\n",
       "      <td>Manual</td>\n",
       "      <td>First</td>\n",
       "      <td>13.68 kmpl</td>\n",
       "      <td>2393 CC</td>\n",
       "      <td>147.8 bhp</td>\n",
       "      <td>7.0</td>\n",
       "      <td>25.27 Lakh</td>\n",
       "    </tr>\n",
       "    <tr>\n",
       "      <th>30</th>\n",
       "      <td>2014</td>\n",
       "      <td>70000</td>\n",
       "      <td>Diesel</td>\n",
       "      <td>Manual</td>\n",
       "      <td>Second</td>\n",
       "      <td>23.59 kmpl</td>\n",
       "      <td>1364 CC</td>\n",
       "      <td>67.06 bhp</td>\n",
       "      <td>5.0</td>\n",
       "      <td>9.27 Lakh</td>\n",
       "    </tr>\n",
       "    <tr>\n",
       "      <th>36</th>\n",
       "      <td>2017</td>\n",
       "      <td>13500</td>\n",
       "      <td>Petrol</td>\n",
       "      <td>Automatic</td>\n",
       "      <td>First</td>\n",
       "      <td>14.84 kmpl</td>\n",
       "      <td>1598 CC</td>\n",
       "      <td>103.52 bhp</td>\n",
       "      <td>5.0</td>\n",
       "      <td>14.95 Lakh</td>\n",
       "    </tr>\n",
       "    <tr>\n",
       "      <th>39</th>\n",
       "      <td>2012</td>\n",
       "      <td>66889</td>\n",
       "      <td>Diesel</td>\n",
       "      <td>Automatic</td>\n",
       "      <td>First</td>\n",
       "      <td>22.48 kmpl</td>\n",
       "      <td>1995 CC</td>\n",
       "      <td>190 bhp</td>\n",
       "      <td>5.0</td>\n",
       "      <td>70.43 Lakh</td>\n",
       "    </tr>\n",
       "    <tr>\n",
       "      <th>43</th>\n",
       "      <td>2018</td>\n",
       "      <td>4000</td>\n",
       "      <td>Petrol</td>\n",
       "      <td>Manual</td>\n",
       "      <td>First</td>\n",
       "      <td>15.41 kmpl</td>\n",
       "      <td>1598 CC</td>\n",
       "      <td>103.52 bhp</td>\n",
       "      <td>5.0</td>\n",
       "      <td>11.89 Lakh</td>\n",
       "    </tr>\n",
       "    <tr>\n",
       "      <th>...</th>\n",
       "      <td>...</td>\n",
       "      <td>...</td>\n",
       "      <td>...</td>\n",
       "      <td>...</td>\n",
       "      <td>...</td>\n",
       "      <td>...</td>\n",
       "      <td>...</td>\n",
       "      <td>...</td>\n",
       "      <td>...</td>\n",
       "      <td>...</td>\n",
       "    </tr>\n",
       "    <tr>\n",
       "      <th>1209</th>\n",
       "      <td>2016</td>\n",
       "      <td>41413</td>\n",
       "      <td>Diesel</td>\n",
       "      <td>Manual</td>\n",
       "      <td>First</td>\n",
       "      <td>27.28 kmpl</td>\n",
       "      <td>1047 CC</td>\n",
       "      <td>69 bhp</td>\n",
       "      <td>5.0</td>\n",
       "      <td>7.06 Lakh</td>\n",
       "    </tr>\n",
       "    <tr>\n",
       "      <th>1212</th>\n",
       "      <td>2017</td>\n",
       "      <td>39015</td>\n",
       "      <td>Petrol</td>\n",
       "      <td>Manual</td>\n",
       "      <td>First</td>\n",
       "      <td>17.0 kmpl</td>\n",
       "      <td>1497 CC</td>\n",
       "      <td>121.36 bhp</td>\n",
       "      <td>5.0</td>\n",
       "      <td>8.79 Lakh</td>\n",
       "    </tr>\n",
       "    <tr>\n",
       "      <th>1213</th>\n",
       "      <td>2018</td>\n",
       "      <td>6000</td>\n",
       "      <td>Petrol</td>\n",
       "      <td>Manual</td>\n",
       "      <td>First</td>\n",
       "      <td>16.0 kmpl</td>\n",
       "      <td>1368 CC</td>\n",
       "      <td>160 bhp</td>\n",
       "      <td>5.0</td>\n",
       "      <td>18.16 Lakh</td>\n",
       "    </tr>\n",
       "    <tr>\n",
       "      <th>1216</th>\n",
       "      <td>2017</td>\n",
       "      <td>21380</td>\n",
       "      <td>Diesel</td>\n",
       "      <td>Manual</td>\n",
       "      <td>First</td>\n",
       "      <td>24.3 kmpl</td>\n",
       "      <td>1248 CC</td>\n",
       "      <td>88.5 bhp</td>\n",
       "      <td>5.0</td>\n",
       "      <td>10.57 Lakh</td>\n",
       "    </tr>\n",
       "    <tr>\n",
       "      <th>1217</th>\n",
       "      <td>2018</td>\n",
       "      <td>23955</td>\n",
       "      <td>Petrol</td>\n",
       "      <td>Manual</td>\n",
       "      <td>First</td>\n",
       "      <td>18.6 kmpl</td>\n",
       "      <td>1197 CC</td>\n",
       "      <td>81.86 bhp</td>\n",
       "      <td>5.0</td>\n",
       "      <td>7.08 Lakh</td>\n",
       "    </tr>\n",
       "  </tbody>\n",
       "</table>\n",
       "<p>182 rows × 10 columns</p>\n",
       "</div>"
      ],
      "text/plain": [
       "      Year  Kilometers_Driven Fuel_Type Transmission Owner_Type     Mileage  \\\n",
       "2     2017              34000    Diesel       Manual      First  13.68 kmpl   \n",
       "30    2014              70000    Diesel       Manual     Second  23.59 kmpl   \n",
       "36    2017              13500    Petrol    Automatic      First  14.84 kmpl   \n",
       "39    2012              66889    Diesel    Automatic      First  22.48 kmpl   \n",
       "43    2018               4000    Petrol       Manual      First  15.41 kmpl   \n",
       "...    ...                ...       ...          ...        ...         ...   \n",
       "1209  2016              41413    Diesel       Manual      First  27.28 kmpl   \n",
       "1212  2017              39015    Petrol       Manual      First   17.0 kmpl   \n",
       "1213  2018               6000    Petrol       Manual      First   16.0 kmpl   \n",
       "1216  2017              21380    Diesel       Manual      First   24.3 kmpl   \n",
       "1217  2018              23955    Petrol       Manual      First   18.6 kmpl   \n",
       "\n",
       "       Engine       Power  Seats   New_Price  \n",
       "2     2393 CC   147.8 bhp    7.0  25.27 Lakh  \n",
       "30    1364 CC   67.06 bhp    5.0   9.27 Lakh  \n",
       "36    1598 CC  103.52 bhp    5.0  14.95 Lakh  \n",
       "39    1995 CC     190 bhp    5.0  70.43 Lakh  \n",
       "43    1598 CC  103.52 bhp    5.0  11.89 Lakh  \n",
       "...       ...         ...    ...         ...  \n",
       "1209  1047 CC      69 bhp    5.0   7.06 Lakh  \n",
       "1212  1497 CC  121.36 bhp    5.0   8.79 Lakh  \n",
       "1213  1368 CC     160 bhp    5.0  18.16 Lakh  \n",
       "1216  1248 CC    88.5 bhp    5.0  10.57 Lakh  \n",
       "1217  1197 CC   81.86 bhp    5.0   7.08 Lakh  \n",
       "\n",
       "[182 rows x 10 columns]"
      ]
     },
     "execution_count": 519,
     "metadata": {},
     "output_type": "execute_result"
    }
   ],
   "source": [
    "# display data with no nulls\n",
    "df1"
   ]
  },
  {
   "cell_type": "markdown",
   "metadata": {},
   "source": [
    "## Section 2 - Clean the data and prep for use in ML algorithm\n",
    "This section is focused on further cleaning the data and preparing it for use in the training process of the algorithm. This is done by converting non-numerical data into numerical data as well as updating certain values in the table."
   ]
  },
  {
   "cell_type": "code",
   "execution_count": 520,
   "metadata": {},
   "outputs": [
    {
     "name": "stdout",
     "output_type": "stream",
     "text": [
      "['First' 'Second']\n",
      "['Manual' 'Automatic']\n",
      "['Diesel' 'Petrol' 'CNG']\n"
     ]
    }
   ],
   "source": [
    "# check for value attributes that can be used in a binary format\n",
    "print(df1.Owner_Type.unique())\n",
    "print(df1.Transmission.unique())\n",
    "print(df1.Fuel_Type.unique())"
   ]
  },
  {
   "cell_type": "markdown",
   "metadata": {},
   "source": [
    "The columns containing values that can be converted into a binary format for identification are converted in the following block of code."
   ]
  },
  {
   "cell_type": "code",
   "execution_count": 521,
   "metadata": {},
   "outputs": [],
   "source": [
    "# create dummy variables of the columns\n",
    "transDummies = pd.get_dummies(df1[\"Transmission\"])# manual = 0\n",
    "df1 = pd.concat((df1, transDummies), axis=1)\n",
    "df1 = df1.drop(\"Transmission\", axis=1)\n",
    "df1 = df1.drop(\"Manual\", axis=1)\n",
    "df1 = df1.rename(columns={\"Automatic\":\"Transmission\"})\n",
    "\n",
    "ownerDummies = pd.get_dummies(df1[\"Owner_Type\"])# first = 0\n",
    "df1 = pd.concat((df1, ownerDummies), axis=1)\n",
    "df1 = df1.drop(\"Owner_Type\", axis=1)\n",
    "df1 = df1.drop(\"Second\", axis=1)\n",
    "df1 = df1.rename(columns={\"First\":\"Owner_Type\"})"
   ]
  },
  {
   "cell_type": "markdown",
   "metadata": {},
   "source": [
    "The below table shows the new values representing the Transmission and Owner_Type columns."
   ]
  },
  {
   "cell_type": "code",
   "execution_count": 522,
   "metadata": {},
   "outputs": [
    {
     "data": {
      "text/html": [
       "<div>\n",
       "<style scoped>\n",
       "    .dataframe tbody tr th:only-of-type {\n",
       "        vertical-align: middle;\n",
       "    }\n",
       "\n",
       "    .dataframe tbody tr th {\n",
       "        vertical-align: top;\n",
       "    }\n",
       "\n",
       "    .dataframe thead th {\n",
       "        text-align: right;\n",
       "    }\n",
       "</style>\n",
       "<table border=\"1\" class=\"dataframe\">\n",
       "  <thead>\n",
       "    <tr style=\"text-align: right;\">\n",
       "      <th></th>\n",
       "      <th>Year</th>\n",
       "      <th>Kilometers_Driven</th>\n",
       "      <th>Fuel_Type</th>\n",
       "      <th>Mileage</th>\n",
       "      <th>Engine</th>\n",
       "      <th>Power</th>\n",
       "      <th>Seats</th>\n",
       "      <th>New_Price</th>\n",
       "      <th>Transmission</th>\n",
       "      <th>Owner_Type</th>\n",
       "    </tr>\n",
       "  </thead>\n",
       "  <tbody>\n",
       "    <tr>\n",
       "      <th>2</th>\n",
       "      <td>2017</td>\n",
       "      <td>34000</td>\n",
       "      <td>Diesel</td>\n",
       "      <td>13.68 kmpl</td>\n",
       "      <td>2393 CC</td>\n",
       "      <td>147.8 bhp</td>\n",
       "      <td>7.0</td>\n",
       "      <td>25.27 Lakh</td>\n",
       "      <td>0</td>\n",
       "      <td>1</td>\n",
       "    </tr>\n",
       "    <tr>\n",
       "      <th>30</th>\n",
       "      <td>2014</td>\n",
       "      <td>70000</td>\n",
       "      <td>Diesel</td>\n",
       "      <td>23.59 kmpl</td>\n",
       "      <td>1364 CC</td>\n",
       "      <td>67.06 bhp</td>\n",
       "      <td>5.0</td>\n",
       "      <td>9.27 Lakh</td>\n",
       "      <td>0</td>\n",
       "      <td>0</td>\n",
       "    </tr>\n",
       "    <tr>\n",
       "      <th>36</th>\n",
       "      <td>2017</td>\n",
       "      <td>13500</td>\n",
       "      <td>Petrol</td>\n",
       "      <td>14.84 kmpl</td>\n",
       "      <td>1598 CC</td>\n",
       "      <td>103.52 bhp</td>\n",
       "      <td>5.0</td>\n",
       "      <td>14.95 Lakh</td>\n",
       "      <td>1</td>\n",
       "      <td>1</td>\n",
       "    </tr>\n",
       "    <tr>\n",
       "      <th>39</th>\n",
       "      <td>2012</td>\n",
       "      <td>66889</td>\n",
       "      <td>Diesel</td>\n",
       "      <td>22.48 kmpl</td>\n",
       "      <td>1995 CC</td>\n",
       "      <td>190 bhp</td>\n",
       "      <td>5.0</td>\n",
       "      <td>70.43 Lakh</td>\n",
       "      <td>1</td>\n",
       "      <td>1</td>\n",
       "    </tr>\n",
       "    <tr>\n",
       "      <th>43</th>\n",
       "      <td>2018</td>\n",
       "      <td>4000</td>\n",
       "      <td>Petrol</td>\n",
       "      <td>15.41 kmpl</td>\n",
       "      <td>1598 CC</td>\n",
       "      <td>103.52 bhp</td>\n",
       "      <td>5.0</td>\n",
       "      <td>11.89 Lakh</td>\n",
       "      <td>0</td>\n",
       "      <td>1</td>\n",
       "    </tr>\n",
       "    <tr>\n",
       "      <th>...</th>\n",
       "      <td>...</td>\n",
       "      <td>...</td>\n",
       "      <td>...</td>\n",
       "      <td>...</td>\n",
       "      <td>...</td>\n",
       "      <td>...</td>\n",
       "      <td>...</td>\n",
       "      <td>...</td>\n",
       "      <td>...</td>\n",
       "      <td>...</td>\n",
       "    </tr>\n",
       "    <tr>\n",
       "      <th>1209</th>\n",
       "      <td>2016</td>\n",
       "      <td>41413</td>\n",
       "      <td>Diesel</td>\n",
       "      <td>27.28 kmpl</td>\n",
       "      <td>1047 CC</td>\n",
       "      <td>69 bhp</td>\n",
       "      <td>5.0</td>\n",
       "      <td>7.06 Lakh</td>\n",
       "      <td>0</td>\n",
       "      <td>1</td>\n",
       "    </tr>\n",
       "    <tr>\n",
       "      <th>1212</th>\n",
       "      <td>2017</td>\n",
       "      <td>39015</td>\n",
       "      <td>Petrol</td>\n",
       "      <td>17.0 kmpl</td>\n",
       "      <td>1497 CC</td>\n",
       "      <td>121.36 bhp</td>\n",
       "      <td>5.0</td>\n",
       "      <td>8.79 Lakh</td>\n",
       "      <td>0</td>\n",
       "      <td>1</td>\n",
       "    </tr>\n",
       "    <tr>\n",
       "      <th>1213</th>\n",
       "      <td>2018</td>\n",
       "      <td>6000</td>\n",
       "      <td>Petrol</td>\n",
       "      <td>16.0 kmpl</td>\n",
       "      <td>1368 CC</td>\n",
       "      <td>160 bhp</td>\n",
       "      <td>5.0</td>\n",
       "      <td>18.16 Lakh</td>\n",
       "      <td>0</td>\n",
       "      <td>1</td>\n",
       "    </tr>\n",
       "    <tr>\n",
       "      <th>1216</th>\n",
       "      <td>2017</td>\n",
       "      <td>21380</td>\n",
       "      <td>Diesel</td>\n",
       "      <td>24.3 kmpl</td>\n",
       "      <td>1248 CC</td>\n",
       "      <td>88.5 bhp</td>\n",
       "      <td>5.0</td>\n",
       "      <td>10.57 Lakh</td>\n",
       "      <td>0</td>\n",
       "      <td>1</td>\n",
       "    </tr>\n",
       "    <tr>\n",
       "      <th>1217</th>\n",
       "      <td>2018</td>\n",
       "      <td>23955</td>\n",
       "      <td>Petrol</td>\n",
       "      <td>18.6 kmpl</td>\n",
       "      <td>1197 CC</td>\n",
       "      <td>81.86 bhp</td>\n",
       "      <td>5.0</td>\n",
       "      <td>7.08 Lakh</td>\n",
       "      <td>0</td>\n",
       "      <td>1</td>\n",
       "    </tr>\n",
       "  </tbody>\n",
       "</table>\n",
       "<p>182 rows × 10 columns</p>\n",
       "</div>"
      ],
      "text/plain": [
       "      Year  Kilometers_Driven Fuel_Type     Mileage   Engine       Power  \\\n",
       "2     2017              34000    Diesel  13.68 kmpl  2393 CC   147.8 bhp   \n",
       "30    2014              70000    Diesel  23.59 kmpl  1364 CC   67.06 bhp   \n",
       "36    2017              13500    Petrol  14.84 kmpl  1598 CC  103.52 bhp   \n",
       "39    2012              66889    Diesel  22.48 kmpl  1995 CC     190 bhp   \n",
       "43    2018               4000    Petrol  15.41 kmpl  1598 CC  103.52 bhp   \n",
       "...    ...                ...       ...         ...      ...         ...   \n",
       "1209  2016              41413    Diesel  27.28 kmpl  1047 CC      69 bhp   \n",
       "1212  2017              39015    Petrol   17.0 kmpl  1497 CC  121.36 bhp   \n",
       "1213  2018               6000    Petrol   16.0 kmpl  1368 CC     160 bhp   \n",
       "1216  2017              21380    Diesel   24.3 kmpl  1248 CC    88.5 bhp   \n",
       "1217  2018              23955    Petrol   18.6 kmpl  1197 CC   81.86 bhp   \n",
       "\n",
       "      Seats   New_Price  Transmission  Owner_Type  \n",
       "2       7.0  25.27 Lakh             0           1  \n",
       "30      5.0   9.27 Lakh             0           0  \n",
       "36      5.0  14.95 Lakh             1           1  \n",
       "39      5.0  70.43 Lakh             1           1  \n",
       "43      5.0  11.89 Lakh             0           1  \n",
       "...     ...         ...           ...         ...  \n",
       "1209    5.0   7.06 Lakh             0           1  \n",
       "1212    5.0   8.79 Lakh             0           1  \n",
       "1213    5.0  18.16 Lakh             0           1  \n",
       "1216    5.0  10.57 Lakh             0           1  \n",
       "1217    5.0   7.08 Lakh             0           1  \n",
       "\n",
       "[182 rows x 10 columns]"
      ]
     },
     "execution_count": 522,
     "metadata": {},
     "output_type": "execute_result"
    }
   ],
   "source": [
    "df1"
   ]
  },
  {
   "cell_type": "markdown",
   "metadata": {},
   "source": [
    "In the following blocks of code the columns containing suffixes in their values are eddited and the suffixes are removed. This enables the data to be used in the model training."
   ]
  },
  {
   "cell_type": "code",
   "execution_count": 523,
   "metadata": {},
   "outputs": [],
   "source": [
    "# updating mileage column values\n",
    "mileageList = []\n",
    "for line in df1.Mileage:\n",
    "    line = line[:-4]\n",
    "    mileageList.append(line)\n",
    "df1[\"Mileage\"] = mileageList"
   ]
  },
  {
   "cell_type": "code",
   "execution_count": 524,
   "metadata": {},
   "outputs": [],
   "source": [
    "# updating engine column values\n",
    "engineList = []\n",
    "for line in df1.Engine:\n",
    "    line = line[:-4]\n",
    "    engineList.append(line)\n",
    "df1[\"Engine\"] = engineList"
   ]
  },
  {
   "cell_type": "code",
   "execution_count": 525,
   "metadata": {},
   "outputs": [],
   "source": [
    "# updating powe column values\n",
    "powerList = []\n",
    "for line in df1.Power:\n",
    "    line = line[:-4]\n",
    "    powerList.append(line)\n",
    "df1[\"Power\"] = powerList"
   ]
  },
  {
   "cell_type": "code",
   "execution_count": 526,
   "metadata": {},
   "outputs": [],
   "source": [
    "# updating New_Price(target) column values\n",
    "targetList = []\n",
    "for line in df1.New_Price:\n",
    "    line = line[:-5]\n",
    "    targetList.append(line)\n",
    "df1[\"New_Price\"] = targetList"
   ]
  },
  {
   "cell_type": "markdown",
   "metadata": {},
   "source": [
    "Because the fuel column has more than 2 unique values these can't be converted by using dummy variables. Thus it is converted by making use of conditional statements iterating through the column values."
   ]
  },
  {
   "cell_type": "code",
   "execution_count": 527,
   "metadata": {},
   "outputs": [],
   "source": [
    "# updating fuel column values\n",
    "fuelList = []\n",
    "for line in df1.Fuel_Type:\n",
    "    if line == \"Diesel\":\n",
    "        fuelList.append(1)\n",
    "    elif line == \"Petrol\":\n",
    "        fuelList.append(2)\n",
    "    else: fuelList.append(3)\n",
    "df1[\"Fuel_Type\"] = fuelList"
   ]
  },
  {
   "cell_type": "markdown",
   "metadata": {},
   "source": [
    "The below table shows the features with their now cleaned values"
   ]
  },
  {
   "cell_type": "code",
   "execution_count": 528,
   "metadata": {},
   "outputs": [
    {
     "data": {
      "text/html": [
       "<div>\n",
       "<style scoped>\n",
       "    .dataframe tbody tr th:only-of-type {\n",
       "        vertical-align: middle;\n",
       "    }\n",
       "\n",
       "    .dataframe tbody tr th {\n",
       "        vertical-align: top;\n",
       "    }\n",
       "\n",
       "    .dataframe thead th {\n",
       "        text-align: right;\n",
       "    }\n",
       "</style>\n",
       "<table border=\"1\" class=\"dataframe\">\n",
       "  <thead>\n",
       "    <tr style=\"text-align: right;\">\n",
       "      <th></th>\n",
       "      <th>Year</th>\n",
       "      <th>Kilometers_Driven</th>\n",
       "      <th>Fuel_Type</th>\n",
       "      <th>Mileage</th>\n",
       "      <th>Engine</th>\n",
       "      <th>Power</th>\n",
       "      <th>Seats</th>\n",
       "      <th>New_Price</th>\n",
       "      <th>Transmission</th>\n",
       "      <th>Owner_Type</th>\n",
       "    </tr>\n",
       "  </thead>\n",
       "  <tbody>\n",
       "    <tr>\n",
       "      <th>2</th>\n",
       "      <td>2017</td>\n",
       "      <td>34000</td>\n",
       "      <td>1</td>\n",
       "      <td>13.68</td>\n",
       "      <td>239</td>\n",
       "      <td>147.8</td>\n",
       "      <td>7.0</td>\n",
       "      <td>25.27</td>\n",
       "      <td>0</td>\n",
       "      <td>1</td>\n",
       "    </tr>\n",
       "    <tr>\n",
       "      <th>30</th>\n",
       "      <td>2014</td>\n",
       "      <td>70000</td>\n",
       "      <td>1</td>\n",
       "      <td>23.59</td>\n",
       "      <td>136</td>\n",
       "      <td>67.06</td>\n",
       "      <td>5.0</td>\n",
       "      <td>9.27</td>\n",
       "      <td>0</td>\n",
       "      <td>0</td>\n",
       "    </tr>\n",
       "    <tr>\n",
       "      <th>36</th>\n",
       "      <td>2017</td>\n",
       "      <td>13500</td>\n",
       "      <td>2</td>\n",
       "      <td>14.84</td>\n",
       "      <td>159</td>\n",
       "      <td>103.52</td>\n",
       "      <td>5.0</td>\n",
       "      <td>14.95</td>\n",
       "      <td>1</td>\n",
       "      <td>1</td>\n",
       "    </tr>\n",
       "    <tr>\n",
       "      <th>39</th>\n",
       "      <td>2012</td>\n",
       "      <td>66889</td>\n",
       "      <td>1</td>\n",
       "      <td>22.48</td>\n",
       "      <td>199</td>\n",
       "      <td>190</td>\n",
       "      <td>5.0</td>\n",
       "      <td>70.43</td>\n",
       "      <td>1</td>\n",
       "      <td>1</td>\n",
       "    </tr>\n",
       "    <tr>\n",
       "      <th>43</th>\n",
       "      <td>2018</td>\n",
       "      <td>4000</td>\n",
       "      <td>2</td>\n",
       "      <td>15.41</td>\n",
       "      <td>159</td>\n",
       "      <td>103.52</td>\n",
       "      <td>5.0</td>\n",
       "      <td>11.89</td>\n",
       "      <td>0</td>\n",
       "      <td>1</td>\n",
       "    </tr>\n",
       "    <tr>\n",
       "      <th>...</th>\n",
       "      <td>...</td>\n",
       "      <td>...</td>\n",
       "      <td>...</td>\n",
       "      <td>...</td>\n",
       "      <td>...</td>\n",
       "      <td>...</td>\n",
       "      <td>...</td>\n",
       "      <td>...</td>\n",
       "      <td>...</td>\n",
       "      <td>...</td>\n",
       "    </tr>\n",
       "    <tr>\n",
       "      <th>1209</th>\n",
       "      <td>2016</td>\n",
       "      <td>41413</td>\n",
       "      <td>1</td>\n",
       "      <td>27.28</td>\n",
       "      <td>104</td>\n",
       "      <td>69</td>\n",
       "      <td>5.0</td>\n",
       "      <td>7.06</td>\n",
       "      <td>0</td>\n",
       "      <td>1</td>\n",
       "    </tr>\n",
       "    <tr>\n",
       "      <th>1212</th>\n",
       "      <td>2017</td>\n",
       "      <td>39015</td>\n",
       "      <td>2</td>\n",
       "      <td>17.0</td>\n",
       "      <td>149</td>\n",
       "      <td>121.36</td>\n",
       "      <td>5.0</td>\n",
       "      <td>8.79</td>\n",
       "      <td>0</td>\n",
       "      <td>1</td>\n",
       "    </tr>\n",
       "    <tr>\n",
       "      <th>1213</th>\n",
       "      <td>2018</td>\n",
       "      <td>6000</td>\n",
       "      <td>2</td>\n",
       "      <td>16.0</td>\n",
       "      <td>136</td>\n",
       "      <td>160</td>\n",
       "      <td>5.0</td>\n",
       "      <td>18.16</td>\n",
       "      <td>0</td>\n",
       "      <td>1</td>\n",
       "    </tr>\n",
       "    <tr>\n",
       "      <th>1216</th>\n",
       "      <td>2017</td>\n",
       "      <td>21380</td>\n",
       "      <td>1</td>\n",
       "      <td>24.3</td>\n",
       "      <td>124</td>\n",
       "      <td>88.5</td>\n",
       "      <td>5.0</td>\n",
       "      <td>10.57</td>\n",
       "      <td>0</td>\n",
       "      <td>1</td>\n",
       "    </tr>\n",
       "    <tr>\n",
       "      <th>1217</th>\n",
       "      <td>2018</td>\n",
       "      <td>23955</td>\n",
       "      <td>2</td>\n",
       "      <td>18.6</td>\n",
       "      <td>119</td>\n",
       "      <td>81.86</td>\n",
       "      <td>5.0</td>\n",
       "      <td>7.08</td>\n",
       "      <td>0</td>\n",
       "      <td>1</td>\n",
       "    </tr>\n",
       "  </tbody>\n",
       "</table>\n",
       "<p>182 rows × 10 columns</p>\n",
       "</div>"
      ],
      "text/plain": [
       "      Year  Kilometers_Driven  Fuel_Type Mileage Engine   Power  Seats  \\\n",
       "2     2017              34000          1  13.68     239   147.8    7.0   \n",
       "30    2014              70000          1  23.59     136   67.06    5.0   \n",
       "36    2017              13500          2  14.84     159  103.52    5.0   \n",
       "39    2012              66889          1  22.48     199     190    5.0   \n",
       "43    2018               4000          2  15.41     159  103.52    5.0   \n",
       "...    ...                ...        ...     ...    ...     ...    ...   \n",
       "1209  2016              41413          1  27.28     104      69    5.0   \n",
       "1212  2017              39015          2   17.0     149  121.36    5.0   \n",
       "1213  2018               6000          2   16.0     136     160    5.0   \n",
       "1216  2017              21380          1   24.3     124    88.5    5.0   \n",
       "1217  2018              23955          2   18.6     119   81.86    5.0   \n",
       "\n",
       "     New_Price  Transmission  Owner_Type  \n",
       "2        25.27             0           1  \n",
       "30        9.27             0           0  \n",
       "36       14.95             1           1  \n",
       "39       70.43             1           1  \n",
       "43       11.89             0           1  \n",
       "...        ...           ...         ...  \n",
       "1209      7.06             0           1  \n",
       "1212      8.79             0           1  \n",
       "1213     18.16             0           1  \n",
       "1216     10.57             0           1  \n",
       "1217      7.08             0           1  \n",
       "\n",
       "[182 rows x 10 columns]"
      ]
     },
     "execution_count": 528,
     "metadata": {},
     "output_type": "execute_result"
    }
   ],
   "source": [
    "df1"
   ]
  },
  {
   "cell_type": "code",
   "execution_count": 529,
   "metadata": {},
   "outputs": [
    {
     "name": "stdout",
     "output_type": "stream",
     "text": [
      "Skewness: 1.971439488265357\n",
      "Kurtosis: 3.561668986511043\n"
     ]
    },
    {
     "data": {
      "image/png": "[encoded data removed]",
      "text/plain": [
       "<Figure size 432x288 with 1 Axes>"
      ]
     },
     "metadata": {
      "needs_background": "light"
     },
     "output_type": "display_data"
    }
   ],
   "source": [
    "sns.distplot(df1.New_Price)\n",
    "print(\"Skewness:\",df1[\"New_Price\"].skew())\n",
    "print(\"Kurtosis:\",df1[\"New_Price\"].kurtosis())"
   ]
  },
  {
   "cell_type": "markdown",
   "metadata": {},
   "source": [
    "It can be seen that the new price distribution shows a positive skewness(skew > 1). The kurtosis value is low , indicating that there may not be many outliers in the data."
   ]
  },
  {
   "cell_type": "markdown",
   "metadata": {},
   "source": [
    "The below heatmap indicates that there are no remaining null values in the table after cleaning"
   ]
  },
  {
   "cell_type": "code",
   "execution_count": 530,
   "metadata": {},
   "outputs": [
    {
     "data": {
      "text/plain": [
       "<matplotlib.axes._subplots.AxesSubplot at 0x22f9e2e9580>"
      ]
     },
     "execution_count": 530,
     "metadata": {},
     "output_type": "execute_result"
    },
    {
     "data": {
      "image/png": "[encoded data removed]",
      "text/plain": [
       "<Figure size 432x288 with 2 Axes>"
      ]
     },
     "metadata": {
      "needs_background": "light"
     },
     "output_type": "display_data"
    }
   ],
   "source": [
    "sns.heatmap(df1.isnull(), yticklabels=False)"
   ]
  },
  {
   "cell_type": "markdown",
   "metadata": {},
   "source": [
    "The below heatmap(correlation matrix) shows the correlation between features in the dataset indicating the relationship between them."
   ]
  },
  {
   "cell_type": "code",
   "execution_count": 531,
   "metadata": {},
   "outputs": [
    {
     "data": {
      "text/plain": [
       "<matplotlib.axes._subplots.AxesSubplot at 0x22f9e345160>"
      ]
     },
     "execution_count": 531,
     "metadata": {},
     "output_type": "execute_result"
    },
    {
     "data": {
      "image/png": "[encoded data removed]",
      "text/plain": [
       "<Figure size 432x288 with 2 Axes>"
      ]
     },
     "metadata": {
      "needs_background": "light"
     },
     "output_type": "display_data"
    }
   ],
   "source": [
    "corr = df1.corr()\n",
    "sns.heatmap(corr, annot=True, cmap=\"viridis\")"
   ]
  },
  {
   "cell_type": "markdown",
   "metadata": {},
   "source": [
    "The target data is now being seperated from the rest of the data after it has been cleaned"
   ]
  },
  {
   "cell_type": "code",
   "execution_count": 532,
   "metadata": {},
   "outputs": [
    {
     "data": {
      "text/plain": [
       "2       25.27\n",
       "30       9.27\n",
       "36      14.95\n",
       "39      70.43\n",
       "43      11.89\n",
       "        ...  \n",
       "1209     7.06\n",
       "1212     8.79\n",
       "1213    18.16\n",
       "1216    10.57\n",
       "1217     7.08\n",
       "Name: New_Price, Length: 182, dtype: object"
      ]
     },
     "execution_count": 532,
     "metadata": {},
     "output_type": "execute_result"
    }
   ],
   "source": [
    "target = df1.New_Price\n",
    "target"
   ]
  },
  {
   "cell_type": "markdown",
   "metadata": {},
   "source": [
    "The target column is now dropped from the table to complete the seperation process."
   ]
  },
  {
   "cell_type": "code",
   "execution_count": 533,
   "metadata": {},
   "outputs": [],
   "source": [
    "df1 = df1.drop(\"New_Price\", axis=1)"
   ]
  },
  {
   "cell_type": "markdown",
   "metadata": {},
   "source": [
    "The table shows that the target values are no longer part of the dataset."
   ]
  },
  {
   "cell_type": "code",
   "execution_count": 534,
   "metadata": {},
   "outputs": [
    {
     "data": {
      "text/html": [
       "<div>\n",
       "<style scoped>\n",
       "    .dataframe tbody tr th:only-of-type {\n",
       "        vertical-align: middle;\n",
       "    }\n",
       "\n",
       "    .dataframe tbody tr th {\n",
       "        vertical-align: top;\n",
       "    }\n",
       "\n",
       "    .dataframe thead th {\n",
       "        text-align: right;\n",
       "    }\n",
       "</style>\n",
       "<table border=\"1\" class=\"dataframe\">\n",
       "  <thead>\n",
       "    <tr style=\"text-align: right;\">\n",
       "      <th></th>\n",
       "      <th>Year</th>\n",
       "      <th>Kilometers_Driven</th>\n",
       "      <th>Fuel_Type</th>\n",
       "      <th>Mileage</th>\n",
       "      <th>Engine</th>\n",
       "      <th>Power</th>\n",
       "      <th>Seats</th>\n",
       "      <th>Transmission</th>\n",
       "      <th>Owner_Type</th>\n",
       "    </tr>\n",
       "  </thead>\n",
       "  <tbody>\n",
       "    <tr>\n",
       "      <th>2</th>\n",
       "      <td>2017</td>\n",
       "      <td>34000</td>\n",
       "      <td>1</td>\n",
       "      <td>13.68</td>\n",
       "      <td>239</td>\n",
       "      <td>147.8</td>\n",
       "      <td>7.0</td>\n",
       "      <td>0</td>\n",
       "      <td>1</td>\n",
       "    </tr>\n",
       "    <tr>\n",
       "      <th>30</th>\n",
       "      <td>2014</td>\n",
       "      <td>70000</td>\n",
       "      <td>1</td>\n",
       "      <td>23.59</td>\n",
       "      <td>136</td>\n",
       "      <td>67.06</td>\n",
       "      <td>5.0</td>\n",
       "      <td>0</td>\n",
       "      <td>0</td>\n",
       "    </tr>\n",
       "    <tr>\n",
       "      <th>36</th>\n",
       "      <td>2017</td>\n",
       "      <td>13500</td>\n",
       "      <td>2</td>\n",
       "      <td>14.84</td>\n",
       "      <td>159</td>\n",
       "      <td>103.52</td>\n",
       "      <td>5.0</td>\n",
       "      <td>1</td>\n",
       "      <td>1</td>\n",
       "    </tr>\n",
       "    <tr>\n",
       "      <th>39</th>\n",
       "      <td>2012</td>\n",
       "      <td>66889</td>\n",
       "      <td>1</td>\n",
       "      <td>22.48</td>\n",
       "      <td>199</td>\n",
       "      <td>190</td>\n",
       "      <td>5.0</td>\n",
       "      <td>1</td>\n",
       "      <td>1</td>\n",
       "    </tr>\n",
       "    <tr>\n",
       "      <th>43</th>\n",
       "      <td>2018</td>\n",
       "      <td>4000</td>\n",
       "      <td>2</td>\n",
       "      <td>15.41</td>\n",
       "      <td>159</td>\n",
       "      <td>103.52</td>\n",
       "      <td>5.0</td>\n",
       "      <td>0</td>\n",
       "      <td>1</td>\n",
       "    </tr>\n",
       "    <tr>\n",
       "      <th>...</th>\n",
       "      <td>...</td>\n",
       "      <td>...</td>\n",
       "      <td>...</td>\n",
       "      <td>...</td>\n",
       "      <td>...</td>\n",
       "      <td>...</td>\n",
       "      <td>...</td>\n",
       "      <td>...</td>\n",
       "      <td>...</td>\n",
       "    </tr>\n",
       "    <tr>\n",
       "      <th>1209</th>\n",
       "      <td>2016</td>\n",
       "      <td>41413</td>\n",
       "      <td>1</td>\n",
       "      <td>27.28</td>\n",
       "      <td>104</td>\n",
       "      <td>69</td>\n",
       "      <td>5.0</td>\n",
       "      <td>0</td>\n",
       "      <td>1</td>\n",
       "    </tr>\n",
       "    <tr>\n",
       "      <th>1212</th>\n",
       "      <td>2017</td>\n",
       "      <td>39015</td>\n",
       "      <td>2</td>\n",
       "      <td>17.0</td>\n",
       "      <td>149</td>\n",
       "      <td>121.36</td>\n",
       "      <td>5.0</td>\n",
       "      <td>0</td>\n",
       "      <td>1</td>\n",
       "    </tr>\n",
       "    <tr>\n",
       "      <th>1213</th>\n",
       "      <td>2018</td>\n",
       "      <td>6000</td>\n",
       "      <td>2</td>\n",
       "      <td>16.0</td>\n",
       "      <td>136</td>\n",
       "      <td>160</td>\n",
       "      <td>5.0</td>\n",
       "      <td>0</td>\n",
       "      <td>1</td>\n",
       "    </tr>\n",
       "    <tr>\n",
       "      <th>1216</th>\n",
       "      <td>2017</td>\n",
       "      <td>21380</td>\n",
       "      <td>1</td>\n",
       "      <td>24.3</td>\n",
       "      <td>124</td>\n",
       "      <td>88.5</td>\n",
       "      <td>5.0</td>\n",
       "      <td>0</td>\n",
       "      <td>1</td>\n",
       "    </tr>\n",
       "    <tr>\n",
       "      <th>1217</th>\n",
       "      <td>2018</td>\n",
       "      <td>23955</td>\n",
       "      <td>2</td>\n",
       "      <td>18.6</td>\n",
       "      <td>119</td>\n",
       "      <td>81.86</td>\n",
       "      <td>5.0</td>\n",
       "      <td>0</td>\n",
       "      <td>1</td>\n",
       "    </tr>\n",
       "  </tbody>\n",
       "</table>\n",
       "<p>182 rows × 9 columns</p>\n",
       "</div>"
      ],
      "text/plain": [
       "      Year  Kilometers_Driven  Fuel_Type Mileage Engine   Power  Seats  \\\n",
       "2     2017              34000          1  13.68     239   147.8    7.0   \n",
       "30    2014              70000          1  23.59     136   67.06    5.0   \n",
       "36    2017              13500          2  14.84     159  103.52    5.0   \n",
       "39    2012              66889          1  22.48     199     190    5.0   \n",
       "43    2018               4000          2  15.41     159  103.52    5.0   \n",
       "...    ...                ...        ...     ...    ...     ...    ...   \n",
       "1209  2016              41413          1  27.28     104      69    5.0   \n",
       "1212  2017              39015          2   17.0     149  121.36    5.0   \n",
       "1213  2018               6000          2   16.0     136     160    5.0   \n",
       "1216  2017              21380          1   24.3     124    88.5    5.0   \n",
       "1217  2018              23955          2   18.6     119   81.86    5.0   \n",
       "\n",
       "      Transmission  Owner_Type  \n",
       "2                0           1  \n",
       "30               0           0  \n",
       "36               1           1  \n",
       "39               1           1  \n",
       "43               0           1  \n",
       "...            ...         ...  \n",
       "1209             0           1  \n",
       "1212             0           1  \n",
       "1213             0           1  \n",
       "1216             0           1  \n",
       "1217             0           1  \n",
       "\n",
       "[182 rows x 9 columns]"
      ]
     },
     "execution_count": 534,
     "metadata": {},
     "output_type": "execute_result"
    }
   ],
   "source": [
    "df1"
   ]
  },
  {
   "cell_type": "code",
   "execution_count": 535,
   "metadata": {},
   "outputs": [],
   "source": [
    "# fix value err in column\n",
    "df1[\"Mileage\"] = df1[\"Mileage\"].str.replace(\" k\",\"\")"
   ]
  },
  {
   "cell_type": "markdown",
   "metadata": {},
   "source": [
    "The data that has been seperated is now converted into numpy arrays for use in the training process of the ML algorithm. The target array is flattened as well to be fit to the model later on."
   ]
  },
  {
   "cell_type": "code",
   "execution_count": 536,
   "metadata": {},
   "outputs": [
    {
     "data": {
      "text/plain": [
       "(182,)"
      ]
     },
     "execution_count": 536,
     "metadata": {},
     "output_type": "execute_result"
    }
   ],
   "source": [
    "x = df1.to_numpy()\n",
    "y1 = target.to_numpy()\n",
    "y = y1.flatten()\n",
    "# shape indicates the array is in the correct 1-dimension\n",
    "y.shape"
   ]
  },
  {
   "cell_type": "markdown",
   "metadata": {},
   "source": [
    "## Section 3 - Implement the ML algorithm and tune it to functionality\n",
    "This section consists of the selection process for the best suited ML algorithm as well as the implemenation , training and testing of the selected model."
   ]
  },
  {
   "cell_type": "code",
   "execution_count": 537,
   "metadata": {},
   "outputs": [],
   "source": [
    "# import from sklearn\n",
    "from sklearn.model_selection import train_test_split\n",
    "from sklearn.linear_model import LinearRegression\n",
    "from sklearn.linear_model import LogisticRegression\n",
    "from sklearn.ensemble import GradientBoostingRegressor\n",
    "from sklearn.ensemble import RandomForestRegressor\n",
    "from sklearn.svm import SVC"
   ]
  },
  {
   "cell_type": "markdown",
   "metadata": {},
   "source": [
    "The data is being split into training and testing data with a 80:20 train test ratio."
   ]
  },
  {
   "cell_type": "code",
   "execution_count": 538,
   "metadata": {},
   "outputs": [],
   "source": [
    "x_train, x_test, y_train, y_test = train_test_split(x, y, test_size=0.2)"
   ]
  },
  {
   "cell_type": "markdown",
   "metadata": {},
   "source": [
    "The process of model selection takes place in the below blocks of code.\n",
    "In the following block of code a list is used to store the candidate algorithms whilst a for loop keeps track of each models performance. The results are displayed in a pandas dataframe for analysis."
   ]
  },
  {
   "cell_type": "code",
   "execution_count": 539,
   "metadata": {},
   "outputs": [
    {
     "name": "stderr",
     "output_type": "stream",
     "text": [
      "C:\\Users\\heyle\\anaconda3\\lib\\site-packages\\sklearn\\linear_model\\_logistic.py:762: ConvergenceWarning: lbfgs failed to converge (status=1):\n",
      "STOP: TOTAL NO. of ITERATIONS REACHED LIMIT.\n",
      "\n",
      "Increase the number of iterations (max_iter) or scale the data as shown in:\n",
      "    https://scikit-learn.org/stable/modules/preprocessing.html\n",
      "Please also refer to the documentation for alternative solver options:\n",
      "    https://scikit-learn.org/stable/modules/linear_model.html#logistic-regression\n",
      "  n_iter_i = _check_optimize_result(\n"
     ]
    },
    {
     "data": {
      "text/html": [
       "<div>\n",
       "<style scoped>\n",
       "    .dataframe tbody tr th:only-of-type {\n",
       "        vertical-align: middle;\n",
       "    }\n",
       "\n",
       "    .dataframe tbody tr th {\n",
       "        vertical-align: top;\n",
       "    }\n",
       "\n",
       "    .dataframe thead th {\n",
       "        text-align: right;\n",
       "    }\n",
       "</style>\n",
       "<table border=\"1\" class=\"dataframe\">\n",
       "  <thead>\n",
       "    <tr style=\"text-align: right;\">\n",
       "      <th></th>\n",
       "      <th>0</th>\n",
       "      <th>1</th>\n",
       "      <th>2</th>\n",
       "      <th>3</th>\n",
       "      <th>4</th>\n",
       "      <th>5</th>\n",
       "    </tr>\n",
       "  </thead>\n",
       "  <tbody>\n",
       "    <tr>\n",
       "      <th>0</th>\n",
       "      <td>Model</td>\n",
       "      <td>Linear_Regression</td>\n",
       "      <td>Training score</td>\n",
       "      <td>0.583560</td>\n",
       "      <td>Testing score</td>\n",
       "      <td>0.301385</td>\n",
       "    </tr>\n",
       "    <tr>\n",
       "      <th>1</th>\n",
       "      <td>Model</td>\n",
       "      <td>Logistic_Regression</td>\n",
       "      <td>Training score</td>\n",
       "      <td>0.068966</td>\n",
       "      <td>Testing score</td>\n",
       "      <td>0.000000</td>\n",
       "    </tr>\n",
       "    <tr>\n",
       "      <th>2</th>\n",
       "      <td>Model</td>\n",
       "      <td>Random_Forest_Regressor</td>\n",
       "      <td>Training score</td>\n",
       "      <td>0.948843</td>\n",
       "      <td>Testing score</td>\n",
       "      <td>0.790371</td>\n",
       "    </tr>\n",
       "    <tr>\n",
       "      <th>3</th>\n",
       "      <td>Model</td>\n",
       "      <td>Gradient_Boosting_regression</td>\n",
       "      <td>Training score</td>\n",
       "      <td>0.996034</td>\n",
       "      <td>Testing score</td>\n",
       "      <td>0.944463</td>\n",
       "    </tr>\n",
       "  </tbody>\n",
       "</table>\n",
       "</div>"
      ],
      "text/plain": [
       "       0                             1               2         3  \\\n",
       "0  Model             Linear_Regression  Training score  0.583560   \n",
       "1  Model           Logistic_Regression  Training score  0.068966   \n",
       "2  Model       Random_Forest_Regressor  Training score  0.948843   \n",
       "3  Model  Gradient_Boosting_regression  Training score  0.996034   \n",
       "\n",
       "               4         5  \n",
       "0  Testing score  0.301385  \n",
       "1  Testing score  0.000000  \n",
       "2  Testing score  0.790371  \n",
       "3  Testing score  0.944463  "
      ]
     },
     "execution_count": 539,
     "metadata": {},
     "output_type": "execute_result"
    }
   ],
   "source": [
    "modelScores = []\n",
    "\n",
    "algList = [\n",
    "    [\"Linear_Regression\", LinearRegression()],\n",
    "    [\"Logistic_Regression\", LogisticRegression()],\n",
    "    \n",
    "    [\"Random_Forest_Regressor\", RandomForestRegressor()],\n",
    "    [\"Gradient_Boosting_regression\", GradientBoostingRegressor()]\n",
    "]\n",
    "for reg in algList:\n",
    "    modelName = reg[0]\n",
    "    model = reg[1]\n",
    "    model.fit(x_train, y_train)\n",
    "    y_val_pred = model.predict(x_test)\n",
    "    trainScore = model.score(x_train, y_train)\n",
    "    testScore = model.score(x_test, y_test)\n",
    "    modelScores.append([\"Model\",modelName, \"Training score\",trainScore, \"Testing score\",testScore])\n",
    "modelScores\n",
    "modelFrame = pd.DataFrame(data=modelScores)\n",
    "modelFrame"
   ]
  },
  {
   "cell_type": "markdown",
   "metadata": {},
   "source": [
    "The best performing model is now fitted to the the data for training and prediction"
   ]
  },
  {
   "cell_type": "code",
   "execution_count": 550,
   "metadata": {},
   "outputs": [
    {
     "data": {
      "text/plain": [
       "GradientBoostingRegressor()"
      ]
     },
     "execution_count": 550,
     "metadata": {},
     "output_type": "execute_result"
    }
   ],
   "source": [
    "model = GradientBoostingRegressor()\n",
    "model.fit(x_train, y_train)"
   ]
  },
  {
   "cell_type": "code",
   "execution_count": 551,
   "metadata": {},
   "outputs": [
    {
     "name": "stdout",
     "output_type": "stream",
     "text": [
      "[ 5.87414697  9.9492283   4.35681055 34.3795944  38.84907504  5.80233639\n",
      " 24.46083575 59.2267634  35.26803162 25.2525576   7.07033489 41.82409781\n",
      "  7.61128373  5.56227371  8.74606075  6.41942967  7.39476968 66.767695\n",
      " 32.44365061 10.63698184  2.31570359 13.64207284 10.75170192  6.75731711\n",
      "  5.98086752  8.16054924  4.14445187  8.68870419  6.7119564  13.00136321\n",
      "  4.63039917 16.83024963  6.65247958 10.8851048   6.41942967  7.71712113\n",
      "  4.3387506 ]\n",
      "['5.01' '8.92' '5.78' '40.62' '43.65' '6.78' '20.74' '49.12' '34.1'\n",
      " '25.04' '8.85' '29.9' '8.28' '3.99' '10.55' '7.87' '9.94' '67.87' '26.14'\n",
      " '12.46' '1.' '9.4' '9.26' '6.38' '4.56' '7.21' '4.5' '7.67' '6.44'\n",
      " '15.59' '4.59' '15.57' '9.45' '10.51' '7.43' '9.51' '3.95']\n",
      "0.9454875123907965\n"
     ]
    }
   ],
   "source": [
    "print(model.predict(x_test))\n",
    "print(y_test)\n",
    "print(model.score(x_test, y_test))"
   ]
  },
  {
   "cell_type": "markdown",
   "metadata": {},
   "source": [
    "## Conclusion\n",
    "It can be concluded that the best performing algorithm for predicting a cars selling value considering various features that impact the value is the GradientBoostingRegressor algorithm with a 94.5% accuray rate."
   ]
  }
 ],
 "metadata": {
  "kernelspec": {
   "display_name": "Python 3",
   "language": "python",
   "name": "python3"
  },
  "language_info": {
   "codemirror_mode": {
    "name": "ipython",
    "version": 3
   },
   "file_extension": ".py",
   "mimetype": "text/x-python",
   "name": "python",
   "nbconvert_exporter": "python",
   "pygments_lexer": "ipython3",
   "version": "3.8.3"
  }
 },
 "nbformat": 4,
 "nbformat_minor": 4
}
